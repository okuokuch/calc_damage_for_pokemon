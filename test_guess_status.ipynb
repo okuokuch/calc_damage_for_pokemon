{
 "cells": [
  {
   "cell_type": "code",
   "execution_count": 1,
   "metadata": {},
   "outputs": [
    {
     "data": {
      "text/plain": [
       "{'min': {'iv': 31, 'ev': 140}, 'max': {'iv': 31, 'ev': 252}}"
      ]
     },
     "execution_count": 1,
     "metadata": {},
     "output_type": "execute_result"
    }
   ],
   "source": [
    "from guess_status import GuessStatus\n",
    "guess = GuessStatus('test.json')\n",
    "\n",
    "guess.set_data()\n",
    "min_status, max_status = guess.check_damage(190)\n",
    "guess.calc_range_ev_iv(min_status, max_status, '上昇')"
   ]
  },
  {
   "cell_type": "code",
   "execution_count": 2,
   "metadata": {},
   "outputs": [
    {
     "data": {
      "text/plain": [
       "{'min': {'iv': 31, 'ev': 244}, 'max': {'iv': 31, 'ev': 252}}"
      ]
     },
     "execution_count": 2,
     "metadata": {},
     "output_type": "execute_result"
    }
   ],
   "source": [
    "guess.calc_range_ev_iv(min_status, max_status, '無補正')"
   ]
  },
  {
   "cell_type": "code",
   "execution_count": 3,
   "metadata": {},
   "outputs": [
    {
     "data": {
      "text/plain": [
       "{'min': {'iv': 28, 'ev': 0}, 'max': {'iv': 31, 'ev': 171}}"
      ]
     },
     "execution_count": 3,
     "metadata": {},
     "output_type": "execute_result"
    }
   ],
   "source": [
    "min_status, max_status = guess.check_damage(220)\n",
    "guess.calc_range_ev_iv(min_status, max_status, '上昇')"
   ]
  },
  {
   "cell_type": "code",
   "execution_count": 4,
   "metadata": {},
   "outputs": [
    {
     "data": {
      "text/plain": [
       "{'min': {'iv': 31, 'ev': 76}, 'max': {'iv': 31, 'ev': 252}}"
      ]
     },
     "execution_count": 4,
     "metadata": {},
     "output_type": "execute_result"
    }
   ],
   "source": [
    "guess.calc_range_ev_iv(min_status, max_status, '無補正')"
   ]
  }
 ],
 "metadata": {
  "kernelspec": {
   "display_name": "Python 3.9.12 ('pokemon_damage_calc')",
   "language": "python",
   "name": "python3"
  },
  "language_info": {
   "codemirror_mode": {
    "name": "ipython",
    "version": 3
   },
   "file_extension": ".py",
   "mimetype": "text/x-python",
   "name": "python",
   "nbconvert_exporter": "python",
   "pygments_lexer": "ipython3",
   "version": "3.9.12"
  },
  "orig_nbformat": 4,
  "vscode": {
   "interpreter": {
    "hash": "6775a726e37a28466681b6a7ad6aec9f8b24bdbd9b8d9d3517257c47eeb105f5"
   }
  }
 },
 "nbformat": 4,
 "nbformat_minor": 2
}
