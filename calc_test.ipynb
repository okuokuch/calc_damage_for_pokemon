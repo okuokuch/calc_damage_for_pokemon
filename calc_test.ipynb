{
 "cells": [
  {
   "cell_type": "markdown",
   "metadata": {},
   "source": [
    "# calc_damage.pyの使用方法\n",
    "以下は、C特化いのちのたまカイオーガが、ジャラランガに雨しおふきを使用した場合のダメージ計算例です。  \n",
    "importしているクラスの概要です。  \n",
    "CalcDamageがダメージ計算を行うクラスです。  \n",
    "Pokemon, Move, Item, Weather, Field, Barrierがダメージ計算を行うために必要な情報を管理するクラスです。  "
   ]
  },
  {
   "cell_type": "code",
   "execution_count": 6,
   "metadata": {},
   "outputs": [
    {
     "data": {
      "text/plain": [
       "[78, 79, 81, 82, 82, 83, 84, 86, 86, 87, 88, 90, 90, 91, 92, 94]"
      ]
     },
     "execution_count": 6,
     "metadata": {},
     "output_type": "execute_result"
    }
   ],
   "source": [
    "from calc_damage import Pokemon, Move, Item, Weather, Field, Barrier, CalcDamage\n",
    "\n",
    "#使用例\n",
    "my_poke = Pokemon('カイオーガ', ev_c=252, nature='ひかえめ')\n",
    "ene_poke = Pokemon('ジャラランガ')\n",
    "my_item = Item('いのちのたま')\n",
    "my_move = Move('しおふき')\n",
    "weather = Weather('あめ')\n",
    "calc = CalcDamage(move = my_move, atk_poke = my_poke, atk_item = my_item, def_poke = ene_poke, weather=weather)\n",
    "calc.calc_damage()"
   ]
  },
  {
   "cell_type": "markdown",
   "metadata": {},
   "source": [
    "# 各クラスの説明\n",
    "## CalcDamageの説明\n",
    "技、ポケモン4体(攻撃、味方、防御、防御2)、アイテム2つ(攻撃、防御)、フィールド、天候、壁、急所がインスタンスに必要な引数です。  \n",
    "急所以外はそれぞれ対応するクラスがあります。そのクラスのインスタンスを引数に入れてください。  \n",
    "move, atk_poke, def_pokeは必須の引数です。それ以外は入力しなくても動作するはずです。"
   ]
  },
  {
   "cell_type": "code",
   "execution_count": 18,
   "metadata": {},
   "outputs": [
    {
     "data": {
      "text/plain": [
       "('self',\n",
       " 'move',\n",
       " 'atk_poke',\n",
       " 'def_poke',\n",
       " 'atk_friend_poke',\n",
       " 'def_friend_poke',\n",
       " 'atk_item',\n",
       " 'def_item',\n",
       " 'field',\n",
       " 'weather',\n",
       " 'barrier',\n",
       " 'is_critical')"
      ]
     },
     "execution_count": 18,
     "metadata": {},
     "output_type": "execute_result"
    }
   ],
   "source": [
    "CalcDamage.__init__.__code__.co_varnames"
   ]
  },
  {
   "cell_type": "markdown",
   "metadata": {},
   "source": [
    "## Pokemonの説明\n",
    "インスタンス作成時のポケモン名は必須です。ポケモン名はpoke.csvファイルに書いてある名称を記入する必要があります。その他は初期値が決まっています。  \n",
    "入力値を用いてステータス計算がなされます。  \n",
    "以下初期値。  \n",
    "level = 50  \n",
    "ev(努力値)=0  \n",
    "iv(個体値)=31  \n",
    "rank(ランク補正)=0  \n",
    "nature(せいかく)='まじめ'\n",
    "ailment(状態異常)=''  \n",
    "is_dynamax(ダイマックスしているか)=False  \n",
    "is_ability_effective = False"
   ]
  },
  {
   "cell_type": "code",
   "execution_count": 25,
   "metadata": {},
   "outputs": [
    {
     "data": {
      "text/plain": [
       "('self',\n",
       " 'name',\n",
       " 'level',\n",
       " 'ev_h',\n",
       " 'ev_a',\n",
       " 'ev_b',\n",
       " 'ev_c',\n",
       " 'ev_d',\n",
       " 'ev_s',\n",
       " 'iv_h',\n",
       " 'iv_a',\n",
       " 'iv_b',\n",
       " 'iv_c',\n",
       " 'iv_d',\n",
       " 'iv_s',\n",
       " 'rank_a',\n",
       " 'rank_b',\n",
       " 'rank_c',\n",
       " 'rank_d',\n",
       " 'rank_s',\n",
       " 'nature',\n",
       " 'ailment',\n",
       " 'is_dynamax',\n",
       " 'is_ability_effective',\n",
       " 'e')"
      ]
     },
     "execution_count": 25,
     "metadata": {},
     "output_type": "execute_result"
    }
   ],
   "source": [
    "Pokemon.__init__.__code__.co_varnames"
   ]
  },
  {
   "cell_type": "markdown",
   "metadata": {},
   "source": [
    "## Item, Wether, Field, Barrierの説明\n",
    "これらクラスの引数は名前のみです。"
   ]
  },
  {
   "cell_type": "code",
   "execution_count": 26,
   "metadata": {},
   "outputs": [
    {
     "data": {
      "text/plain": [
       "('self', 'name')"
      ]
     },
     "execution_count": 26,
     "metadata": {},
     "output_type": "execute_result"
    }
   ],
   "source": [
    "Item.__init__.__code__.co_varnames"
   ]
  },
  {
   "cell_type": "code",
   "execution_count": 27,
   "metadata": {},
   "outputs": [
    {
     "data": {
      "text/plain": [
       "('self', 'name')"
      ]
     },
     "execution_count": 27,
     "metadata": {},
     "output_type": "execute_result"
    }
   ],
   "source": [
    "Weather.__init__.__code__.co_varnames"
   ]
  },
  {
   "cell_type": "code",
   "execution_count": 28,
   "metadata": {},
   "outputs": [
    {
     "data": {
      "text/plain": [
       "('self', 'name')"
      ]
     },
     "execution_count": 28,
     "metadata": {},
     "output_type": "execute_result"
    }
   ],
   "source": [
    "Field.__init__.__code__.co_varnames"
   ]
  },
  {
   "cell_type": "code",
   "execution_count": 29,
   "metadata": {},
   "outputs": [
    {
     "data": {
      "text/plain": [
       "('self', 'name')"
      ]
     },
     "execution_count": 29,
     "metadata": {},
     "output_type": "execute_result"
    }
   ],
   "source": [
    "Barrier.__init__.__code__.co_varnames"
   ]
  }
 ],
 "metadata": {
  "kernelspec": {
   "display_name": "Python 3.9.12 ('pokemon_damage_calc')",
   "language": "python",
   "name": "python3"
  },
  "language_info": {
   "codemirror_mode": {
    "name": "ipython",
    "version": 3
   },
   "file_extension": ".py",
   "mimetype": "text/x-python",
   "name": "python",
   "nbconvert_exporter": "python",
   "pygments_lexer": "ipython3",
   "version": "3.9.12"
  },
  "orig_nbformat": 4,
  "vscode": {
   "interpreter": {
    "hash": "6775a726e37a28466681b6a7ad6aec9f8b24bdbd9b8d9d3517257c47eeb105f5"
   }
  }
 },
 "nbformat": 4,
 "nbformat_minor": 2
}
