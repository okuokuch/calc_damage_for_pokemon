{
 "cells": [
  {
   "cell_type": "markdown",
   "metadata": {},
   "source": [
    "# ダメージ計算テスト\n",
    "templateフォルダ内のjsonファイルからダメ計をする。\n",
    "計算条件はinput_temp_x.jsonの中身を確認してください。"
   ]
  },
  {
   "cell_type": "code",
   "execution_count": 1,
   "metadata": {},
   "outputs": [
    {
     "data": {
      "text/plain": [
       "[93, 93, 94, 96, 96, 97, 99, 100, 100, 102, 103, 105, 105, 106, 108, 109]"
      ]
     },
     "execution_count": 1,
     "metadata": {},
     "output_type": "execute_result"
    }
   ],
   "source": [
    "from calc_damage_from_json import CalcDamageFromJson\n",
    "#ナットレイのジャイロボールがザシアン(剣の王)に与えるダメージ\n",
    "#威力は150\n",
    "\n",
    "calc = CalcDamageFromJson('./template/input_temp_1.json')\n",
    "calc.calc_damage()"
   ]
  },
  {
   "cell_type": "code",
   "execution_count": 2,
   "metadata": {},
   "outputs": [
    {
     "data": {
      "text/plain": [
       "[90, 91, 92, 93, 94, 95, 96, 97, 98, 99, 100, 101, 102, 103, 104, 106]"
      ]
     },
     "execution_count": 2,
     "metadata": {},
     "output_type": "execute_result"
    }
   ],
   "source": [
    "#B特化ナットレイのB2段階上昇ボディプレスがザシアン(剣の王)に与えるダメージ\n",
    "calc = CalcDamageFromJson('./template/input_temp_2.json')\n",
    "calc.calc_damage()"
   ]
  },
  {
   "cell_type": "code",
   "execution_count": 3,
   "metadata": {},
   "outputs": [
    {
     "name": "stdout",
     "output_type": "stream",
     "text": [
      "[100, 101, 102, 103, 105, 106, 107, 108, 109, 110, 112, 113, 114, 115, 116, 118]\n"
     ]
    }
   ],
   "source": [
    "#C特化ロズレイドの雨ウェザーボールが耐久無振りサンダーに与えるダメージ\n",
    "#技威力100、タイプ水であることに注意\n",
    "calc = CalcDamageFromJson('./template/input_temp_3.json')\n",
    "print(calc.calc_damage())"
   ]
  }
 ],
 "metadata": {
  "kernelspec": {
   "display_name": "Python 3.9.12 ('pokemon_damage_calc')",
   "language": "python",
   "name": "python3"
  },
  "language_info": {
   "codemirror_mode": {
    "name": "ipython",
    "version": 3
   },
   "file_extension": ".py",
   "mimetype": "text/x-python",
   "name": "python",
   "nbconvert_exporter": "python",
   "pygments_lexer": "ipython3",
   "version": "3.9.12"
  },
  "orig_nbformat": 4,
  "vscode": {
   "interpreter": {
    "hash": "6775a726e37a28466681b6a7ad6aec9f8b24bdbd9b8d9d3517257c47eeb105f5"
   }
  }
 },
 "nbformat": 4,
 "nbformat_minor": 2
}
