{
 "cells": [
  {
   "cell_type": "markdown",
   "metadata": {},
   "source": [
    "# ダメージ計算テスト\n",
    "templateフォルダ内のjsonファイルからダメ計をする。\n",
    "計算条件はinput_temp_x.jsonの中身を確認してください。"
   ]
  },
  {
   "cell_type": "code",
   "execution_count": null,
   "metadata": {},
   "outputs": [],
   "source": [
    "from calc_damage_from_json import CalcDamageFromJson\n",
    "#ナットレイのジャイロボールがザシアン(剣の王)に与えるダメージ\n",
    "#威力は150\n",
    "\n",
    "calc = CalcDamageFromJson('./template/input_temp_1.json')\n",
    "calc.calc_damage()"
   ]
  },
  {
   "cell_type": "code",
   "execution_count": null,
   "metadata": {},
   "outputs": [],
   "source": [
    "#B特化ナットレイのB2段階上昇ボディプレスがザシアン(剣の王)に与えるダメージ\n",
    "\n",
    "calc = CalcDamageFromJson('./template/input_temp_2.json')\n",
    "calc.calc_damage()"
   ]
  },
  {
   "cell_type": "code",
   "execution_count": null,
   "metadata": {},
   "outputs": [],
   "source": [
    "from calc_damage_from_json import CalcDamageFromJson\n",
    "#ナットレイのジャイロボールがザシアン(剣の王)に与えるダメージ\n",
    "#威力は150\n",
    "\n",
    "calc = CalcDamageFromJson('./template/input_temp_1.json')\n",
    "calc.calc_damage()"
   ]
  }
 ],
 "metadata": {
  "kernelspec": {
   "display_name": "Python 3.9.5 64-bit",
   "language": "python",
   "name": "python3"
  },
  "language_info": {
   "name": "python",
   "version": "3.9.5"
  },
  "orig_nbformat": 4,
  "vscode": {
   "interpreter": {
    "hash": "91ba7826678a32c694804c85dd2310eed575c81ff0420fcb5a6c1b77952117e5"
   }
  }
 },
 "nbformat": 4,
 "nbformat_minor": 2
}
